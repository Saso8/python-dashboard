{
 "cells": [
  {
   "cell_type": "code",
   "execution_count": 1,
   "id": "4f936761",
   "metadata": {},
   "outputs": [
    {
     "name": "stdout",
     "output_type": "stream",
     "text": [
      "Requirement already satisfied: pandas in c:\\users\\user\\anaconda3\\lib\\site-packages (1.5.3)\n",
      "Requirement already satisfied: numpy>=1.21.0 in c:\\users\\user\\anaconda3\\lib\\site-packages (from pandas) (1.23.5)\n",
      "Requirement already satisfied: python-dateutil>=2.8.1 in c:\\users\\user\\anaconda3\\lib\\site-packages (from pandas) (2.8.2)\n",
      "Requirement already satisfied: pytz>=2020.1 in c:\\users\\user\\anaconda3\\lib\\site-packages (from pandas) (2022.7)\n",
      "Requirement already satisfied: six>=1.5 in c:\\users\\user\\anaconda3\\lib\\site-packages (from python-dateutil>=2.8.1->pandas) (1.16.0)\n"
     ]
    }
   ],
   "source": [
    "!pip install pandas"
   ]
  },
  {
   "cell_type": "code",
   "execution_count": 2,
   "id": "6982af8b",
   "metadata": {},
   "outputs": [
    {
     "name": "stdout",
     "output_type": "stream",
     "text": [
      "Requirement already satisfied: numpy in c:\\users\\user\\anaconda3\\lib\\site-packages (1.23.5)\n"
     ]
    }
   ],
   "source": [
    "!pip install numpy"
   ]
  },
  {
   "cell_type": "code",
   "execution_count": 3,
   "id": "ed4feba0",
   "metadata": {},
   "outputs": [
    {
     "name": "stdout",
     "output_type": "stream",
     "text": [
      "Requirement already satisfied: plotly in c:\\users\\user\\anaconda3\\lib\\site-packages (5.9.0)\n",
      "Requirement already satisfied: tenacity>=6.2.0 in c:\\users\\user\\anaconda3\\lib\\site-packages (from plotly) (8.0.1)\n"
     ]
    }
   ],
   "source": [
    "!pip install plotly"
   ]
  },
  {
   "cell_type": "code",
   "execution_count": 4,
   "id": "02c88ffa",
   "metadata": {},
   "outputs": [
    {
     "name": "stdout",
     "output_type": "stream",
     "text": [
      "Requirement already satisfied: dash in c:\\users\\user\\anaconda3\\lib\\site-packages (2.9.1)\n",
      "Requirement already satisfied: Flask>=1.0.4 in c:\\users\\user\\anaconda3\\lib\\site-packages (from dash) (2.2.2)\n",
      "Requirement already satisfied: dash-html-components==2.0.0 in c:\\users\\user\\anaconda3\\lib\\site-packages (from dash) (2.0.0)\n",
      "Requirement already satisfied: dash-core-components==2.0.0 in c:\\users\\user\\anaconda3\\lib\\site-packages (from dash) (2.0.0)\n",
      "Requirement already satisfied: plotly>=5.0.0 in c:\\users\\user\\anaconda3\\lib\\site-packages (from dash) (5.9.0)\n",
      "Requirement already satisfied: dash-table==5.0.0 in c:\\users\\user\\anaconda3\\lib\\site-packages (from dash) (5.0.0)\n",
      "Requirement already satisfied: Jinja2>=3.0 in c:\\users\\user\\anaconda3\\lib\\site-packages (from Flask>=1.0.4->dash) (3.1.2)\n",
      "Requirement already satisfied: Werkzeug>=2.2.2 in c:\\users\\user\\anaconda3\\lib\\site-packages (from Flask>=1.0.4->dash) (2.2.2)\n",
      "Requirement already satisfied: itsdangerous>=2.0 in c:\\users\\user\\anaconda3\\lib\\site-packages (from Flask>=1.0.4->dash) (2.0.1)\n",
      "Requirement already satisfied: click>=8.0 in c:\\users\\user\\anaconda3\\lib\\site-packages (from Flask>=1.0.4->dash) (8.0.4)\n",
      "Requirement already satisfied: tenacity>=6.2.0 in c:\\users\\user\\anaconda3\\lib\\site-packages (from plotly>=5.0.0->dash) (8.0.1)\n",
      "Requirement already satisfied: colorama in c:\\users\\user\\anaconda3\\lib\\site-packages (from click>=8.0->Flask>=1.0.4->dash) (0.4.6)\n",
      "Requirement already satisfied: MarkupSafe>=2.0 in c:\\users\\user\\anaconda3\\lib\\site-packages (from Jinja2>=3.0->Flask>=1.0.4->dash) (2.1.1)\n"
     ]
    }
   ],
   "source": [
    "!pip install dash"
   ]
  },
  {
   "cell_type": "code",
   "execution_count": 5,
   "id": "c19b9a6b",
   "metadata": {},
   "outputs": [],
   "source": [
    "\n",
    "import pandas as pd\n",
    "import dash\n",
    "from dash import dcc\n",
    "from dash import html\n",
    "import plotly.express as px"
   ]
  },
  {
   "cell_type": "code",
   "execution_count": 6,
   "id": "bdc8f315",
   "metadata": {},
   "outputs": [],
   "source": [
    "import seaborn as sns\n",
    "import numpy as np\n",
    "import matplotlib.pyplot as plt\n",
    "import plotly.express as px\n",
    "import plotly.graph_objects as go\n",
    "import warnings\n",
    "warnings.filterwarnings('ignore')"
   ]
  },
  {
   "cell_type": "code",
   "execution_count": 7,
   "id": "84ed05d2",
   "metadata": {},
   "outputs": [
    {
     "data": {
      "text/html": [
       "<div>\n",
       "<style scoped>\n",
       "    .dataframe tbody tr th:only-of-type {\n",
       "        vertical-align: middle;\n",
       "    }\n",
       "\n",
       "    .dataframe tbody tr th {\n",
       "        vertical-align: top;\n",
       "    }\n",
       "\n",
       "    .dataframe thead th {\n",
       "        text-align: right;\n",
       "    }\n",
       "</style>\n",
       "<table border=\"1\" class=\"dataframe\">\n",
       "  <thead>\n",
       "    <tr style=\"text-align: right;\">\n",
       "      <th></th>\n",
       "      <th>State</th>\n",
       "      <th>District</th>\n",
       "      <th>Domestic</th>\n",
       "      <th>Foreigner</th>\n",
       "      <th>Total</th>\n",
       "    </tr>\n",
       "  </thead>\n",
       "  <tbody>\n",
       "    <tr>\n",
       "      <th>0</th>\n",
       "      <td>Himachal Pradesh</td>\n",
       "      <td>Bilaspur</td>\n",
       "      <td>2,53,510</td>\n",
       "      <td>0</td>\n",
       "      <td>2,53,510</td>\n",
       "    </tr>\n",
       "    <tr>\n",
       "      <th>1</th>\n",
       "      <td>Himachal Pradesh</td>\n",
       "      <td>Chamba</td>\n",
       "      <td>2,21,819</td>\n",
       "      <td>69</td>\n",
       "      <td>2,21,888</td>\n",
       "    </tr>\n",
       "    <tr>\n",
       "      <th>2</th>\n",
       "      <td>Himachal Pradesh</td>\n",
       "      <td>Hamirpur</td>\n",
       "      <td>60,123</td>\n",
       "      <td>1</td>\n",
       "      <td>60,124</td>\n",
       "    </tr>\n",
       "    <tr>\n",
       "      <th>3</th>\n",
       "      <td>Himachal Pradesh</td>\n",
       "      <td>Kangra</td>\n",
       "      <td>2,34,251</td>\n",
       "      <td>2,701</td>\n",
       "      <td>2,36,952</td>\n",
       "    </tr>\n",
       "    <tr>\n",
       "      <th>4</th>\n",
       "      <td>Himachal Pradesh</td>\n",
       "      <td>Kinnaur</td>\n",
       "      <td>59,961</td>\n",
       "      <td>109</td>\n",
       "      <td>60,070</td>\n",
       "    </tr>\n",
       "    <tr>\n",
       "      <th>5</th>\n",
       "      <td>Himachal Pradesh</td>\n",
       "      <td>Kullu</td>\n",
       "      <td>16,47,329</td>\n",
       "      <td>252</td>\n",
       "      <td>16,47,581</td>\n",
       "    </tr>\n",
       "    <tr>\n",
       "      <th>6</th>\n",
       "      <td>Himachal Pradesh</td>\n",
       "      <td>Lahaul-spiti</td>\n",
       "      <td>9,60,532</td>\n",
       "      <td>420</td>\n",
       "      <td>9,60,952</td>\n",
       "    </tr>\n",
       "    <tr>\n",
       "      <th>7</th>\n",
       "      <td>Himachal Pradesh</td>\n",
       "      <td>Mandi</td>\n",
       "      <td>3,97,829</td>\n",
       "      <td>149</td>\n",
       "      <td>3,97,978</td>\n",
       "    </tr>\n",
       "    <tr>\n",
       "      <th>8</th>\n",
       "      <td>Himachal Pradesh</td>\n",
       "      <td>Shimla</td>\n",
       "      <td>9,51,792</td>\n",
       "      <td>825</td>\n",
       "      <td>9,52,617</td>\n",
       "    </tr>\n",
       "    <tr>\n",
       "      <th>9</th>\n",
       "      <td>Himachal Pradesh</td>\n",
       "      <td>Sirmaur</td>\n",
       "      <td>4,00,934</td>\n",
       "      <td>28</td>\n",
       "      <td>4,00,962</td>\n",
       "    </tr>\n",
       "  </tbody>\n",
       "</table>\n",
       "</div>"
      ],
      "text/plain": [
       "              State      District   Domestic Foreigner      Total\n",
       "0  Himachal Pradesh      Bilaspur   2,53,510         0   2,53,510\n",
       "1  Himachal Pradesh        Chamba   2,21,819        69   2,21,888\n",
       "2  Himachal Pradesh      Hamirpur     60,123         1     60,124\n",
       "3  Himachal Pradesh        Kangra   2,34,251     2,701   2,36,952\n",
       "4  Himachal Pradesh       Kinnaur     59,961       109     60,070\n",
       "5  Himachal Pradesh         Kullu  16,47,329       252  16,47,581\n",
       "6  Himachal Pradesh  Lahaul-spiti   9,60,532       420   9,60,952\n",
       "7  Himachal Pradesh         Mandi   3,97,829       149   3,97,978\n",
       "8  Himachal Pradesh        Shimla   9,51,792       825   9,52,617\n",
       "9  Himachal Pradesh       Sirmaur   4,00,934        28   4,00,962"
      ]
     },
     "execution_count": 7,
     "metadata": {},
     "output_type": "execute_result"
    }
   ],
   "source": [
    "df = pd.read_csv('Tourist.csv.csv')\n",
    "df.head(10)"
   ]
  },
  {
   "cell_type": "code",
   "execution_count": 8,
   "id": "004bc668",
   "metadata": {},
   "outputs": [],
   "source": [
    "app = dash.Dash(__name__)\n",
    "\n",
    "app.layout = html.Div(children=[\n",
    "   html.H1(children='Tourist based Dashboard'),\n",
    "   html.Div(children='''\n",
    "       Analyzing the Tourist Based Dashboardusing Plotly Dash\n",
    "   '''),\n",
    "   dcc.Graph(\n",
    "       id='histogram',\n",
    "       figure={\n",
    "           'data': [\n",
    "               {'x': df['Domestic'], 'type': 'histogram', 'name':'Domestic'},\n",
    "           ],\n",
    "           'layout': {\n",
    "               'title': 'Domasticwise travel Anaysis'\n",
    "           }\n",
    "       }\n",
    "   ),\n",
    "   dcc.Graph(\n",
    "       id='boxplot',\n",
    "       figure={\n",
    "           'data': [\n",
    "               {'y': df['State'], 'type': 'box', 'name': 'State'},\n",
    "           ],\n",
    "           'layout': {\n",
    "               'title': 'StateWise travel Analysis'\n",
    "           }\n",
    "       }\n",
    "   ),\n",
    "   dcc.Graph(\n",
    "       id='scatterplot',\n",
    "       figure={\n",
    "           'data': [\n",
    "               {'x': df['District'], 'y': df['Domestic'], 'mode': 'Foreigner', 'name': 'District vs Domestic'},\n",
    "           ],\n",
    "           'layout': {\n",
    "               'title': 'Districtwise Domestic Travel Analysis '\n",
    "           }\n",
    "       }\n",
    "   ),\n",
    "   dcc.Graph(\n",
    "       id='barchart',\n",
    "       figure={\n",
    "           'data': [\n",
    "               {'x': df['Total'], 'type': 'bar', 'name': 'Total'},\n",
    "           ],\n",
    "           'layout': {\n",
    "               'title': 'District wise total Travel'\n",
    "           }\n",
    "       }\n",
    "   ),\n",
    "   dcc.Graph(\n",
    "       id='mosaicplot',\n",
    "       figure=px.histogram(df, x=\"Total\", color=\"Foreigner\", barmode=\"overlay\", nbins=10, width=800, height=500)\n",
    "   )\n",
    "    ])\n"
   ]
  },
  {
   "cell_type": "code",
   "execution_count": null,
   "id": "a4f08d9e",
   "metadata": {},
   "outputs": [
    {
     "name": "stdout",
     "output_type": "stream",
     "text": [
      "Dash is running on http://127.0.0.1:4050/\n",
      "\n",
      " * Serving Flask app '__main__'\n",
      " * Debug mode: off\n"
     ]
    },
    {
     "name": "stderr",
     "output_type": "stream",
     "text": [
      "WARNING: This is a development server. Do not use it in a production deployment. Use a production WSGI server instead.\n",
      " * Running on http://127.0.0.1:4050\n",
      "Press CTRL+C to quit\n"
     ]
    }
   ],
   "source": [
    "if __name__ == '__main__':\n",
    "    app.run_server(port=4050)"
   ]
  }
 ],
 "metadata": {
  "kernelspec": {
   "display_name": "Python 3 (ipykernel)",
   "language": "python",
   "name": "python3"
  },
  "language_info": {
   "codemirror_mode": {
    "name": "ipython",
    "version": 3
   },
   "file_extension": ".py",
   "mimetype": "text/x-python",
   "name": "python",
   "nbconvert_exporter": "python",
   "pygments_lexer": "ipython3",
   "version": "3.10.9"
  }
 },
 "nbformat": 4,
 "nbformat_minor": 5
}
